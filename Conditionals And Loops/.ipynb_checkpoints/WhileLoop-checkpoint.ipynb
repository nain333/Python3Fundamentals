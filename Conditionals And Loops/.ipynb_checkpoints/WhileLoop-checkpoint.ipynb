{
 "cells": [
  {
   "cell_type": "markdown",
   "id": "cee6613d",
   "metadata": {},
   "source": [
    "###  While Loop"
   ]
  },
  {
   "cell_type": "code",
   "execution_count": 2,
   "id": "eb56f8f1",
   "metadata": {},
   "outputs": [
    {
     "name": "stdout",
     "output_type": "stream",
     "text": [
      "Enter the value of n23\n",
      "1\n",
      "2\n",
      "3\n",
      "4\n",
      "5\n",
      "6\n",
      "7\n",
      "8\n",
      "9\n",
      "10\n",
      "11\n",
      "12\n",
      "13\n",
      "14\n",
      "15\n",
      "16\n",
      "17\n",
      "18\n",
      "19\n",
      "20\n",
      "21\n",
      "22\n",
      "23\n"
     ]
    }
   ],
   "source": [
    "# print first n natural numbers.\n",
    "n=int(input(\"Enter the value of n\"))\n",
    "i=1\n",
    "while(i<=n):\n",
    "    print(i)\n",
    "    i+=1;"
   ]
  },
  {
   "cell_type": "markdown",
   "id": "0617fe26",
   "metadata": {},
   "source": [
    " ### Check Permiability"
   ]
  },
  {
   "cell_type": "code",
   "execution_count": 11,
   "id": "adbdf111",
   "metadata": {},
   "outputs": [
    {
     "name": "stdout",
     "output_type": "stream",
     "text": [
      "Enter the number to be checked: 101\n",
      "Prime\n"
     ]
    }
   ],
   "source": [
    "n=int(input(\"Enter the number to be checked: \"))\n",
    "div=2\n",
    "isPrime=True\n",
    "while(div<=n/2):\n",
    "    if(n%div==0):\n",
    "        isPrime=False\n",
    "        break\n",
    "    div+=1\n",
    "if(isPrime):\n",
    "    print(\"Prime\")\n",
    "else:\n",
    "    print(\"composite\")"
   ]
  },
  {
   "cell_type": "markdown",
   "id": "7b4dcc97",
   "metadata": {},
   "source": [
    "### Nested While Loop"
   ]
  },
  {
   "cell_type": "code",
   "execution_count": 18,
   "id": "8c106736",
   "metadata": {},
   "outputs": [
    {
     "name": "stdout",
     "output_type": "stream",
     "text": [
      "Enter the number N: 10\n",
      "2\n",
      "3\n",
      "5\n",
      "7\n"
     ]
    }
   ],
   "source": [
    "# Print all the prime number between 1 to N.\n",
    "n=int(input(\"Enter the number N: \"))\n",
    "num=2\n",
    "while(num<=n):\n",
    "    d=2\n",
    "    isPrime=True\n",
    "    while(d<num):\n",
    "        if((num%d)==0):\n",
    "            isPrime=False\n",
    "            break\n",
    "        \n",
    "        d+=1\n",
    "\n",
    "    if isPrime:\n",
    "        print(num)\n",
    "    num+=1\n"
   ]
  },
  {
   "cell_type": "code",
   "execution_count": null,
   "id": "97364946",
   "metadata": {},
   "outputs": [],
   "source": []
  }
 ],
 "metadata": {
  "kernelspec": {
   "display_name": "Python 3 (ipykernel)",
   "language": "python",
   "name": "python3"
  },
  "language_info": {
   "codemirror_mode": {
    "name": "ipython",
    "version": 3
   },
   "file_extension": ".py",
   "mimetype": "text/x-python",
   "name": "python",
   "nbconvert_exporter": "python",
   "pygments_lexer": "ipython3",
   "version": "3.10.6"
  }
 },
 "nbformat": 4,
 "nbformat_minor": 5
}

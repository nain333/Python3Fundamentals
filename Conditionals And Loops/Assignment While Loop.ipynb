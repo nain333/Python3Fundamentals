{
 "cells": [
  {
   "cell_type": "markdown",
   "id": "4f69bdbb",
   "metadata": {},
   "source": [
    "### Calculator"
   ]
  },
  {
   "cell_type": "code",
   "execution_count": 4,
   "id": "e7507736",
   "metadata": {},
   "outputs": [
    {
     "data": {
      "text/plain": [
       "'\\nHello this is a simple comment\\n'"
      ]
     },
     "execution_count": 4,
     "metadata": {},
     "output_type": "execute_result"
    }
   ],
   "source": [
    "\n",
    "\"\"\"\n",
    "Write a program that performs the tasks of a simple calculator. The program should first take an integer as input and then based on that integer perform the task as given below.\n",
    "1. If the input is 1, then 2 integers are taken from the user and their sum is printed.\n",
    "2. If the input is 2, then 2 integers are taken from the user and their difference(1st number - 2nd number) is printed.\n",
    "3. If the input is 3, then 2 integers are taken from the user and their product is printed.\n",
    "4. If the input is 4, then 2 integers are taken from the user and the quotient obtained (on dividing 1st number by 2nd number) is printed.\n",
    "5. If the input is 5, then 2 integers are taken from the user and their remainder(1st number mod 2nd number) is printed.\n",
    "6. If the input is 6, then the program exits.\n",
    "7. For any other input, then print \"Invalid Operation\".\n",
    "\"\"\"\n",
    "\n",
    "\n"
   ]
  },
  {
   "cell_type": "code",
   "execution_count": null,
   "id": "5c22a8c5",
   "metadata": {},
   "outputs": [
    {
     "name": "stdout",
     "output_type": "stream",
     "text": [
      "Please Press 1 for Adding Two Integers.\n",
      "Please Press 2 for the difference of two integers\n",
      "Please Press 3 for the product of two integers\n",
      "Please Press 4 for the division of two integers.\n",
      "Please Enter 5 for the remainder of 2 integers.\n",
      "Pplease Press 6 to Exit the program\n"
     ]
    }
   ],
   "source": [
    "print(\"Please Press 1 for Adding Two Integers.\\nPlease Press 2 for the difference of two integers\\nPlease Press 3 for the product of two integers\\nPlease Press 4 for the division of two integers.\\nPlease Enter 5 for the remainder of 2 integers.\\nPplease Press 6 to Exit the program\")\n",
    "choice =int(input(\"Please Enter the  choice of operations from the options Above: \" ))\n",
    "if(choice==6):\n",
    "    print(\"Exit\")\n",
    "else:\n",
    "    a = int(input(\"Enter the first number: \"))\n",
    "    b = int(input(\"Enter the second number: \"))\n",
    "\n",
    "    if(choice==1):\n",
    "        ans=a+b\n",
    "    elif(choice==2):\n",
    "        ans=a-b\n",
    "    elif(choice==3):\n",
    "        ans=a*b\n",
    "    elif(choice==4):\n",
    "        ans=a//b\n",
    "    elif(choice==5):\n",
    "        ans=a%b\n",
    "    else:\n",
    "        print(\"invalid choice\")\n",
    "    print(ans)\n",
    "    \n",
    "\n",
    "    \n",
    "    "
   ]
  },
  {
   "cell_type": "markdown",
   "id": "f60e0e36",
   "metadata": {},
   "source": [
    "### REVERSE OF A NUMBER"
   ]
  },
  {
   "cell_type": "code",
   "execution_count": null,
   "id": "0e89e02d",
   "metadata": {},
   "outputs": [],
   "source": [
    "\"\"\"\n",
    "Write a program to generate the reverse of a given number N. Print the corresponding reverse number.\n",
    "Note : If a number has trailing zeros, then its reverse will not include them. For e.g., reverse of 10400 will be 401 instead of 00401.\n",
    "\"\"\"\n"
   ]
  },
  {
   "cell_type": "code",
   "execution_count": 2,
   "id": "bca8ce69",
   "metadata": {},
   "outputs": [
    {
     "name": "stdout",
     "output_type": "stream",
     "text": [
      "Enter the number to be reversed: 1000\n",
      "1\n"
     ]
    }
   ],
   "source": [
    "num=int(input(\"Enter the number to be reversed: \"))\n",
    "i=num\n",
    "revnum=0\n",
    "while(i>0):\n",
    "    last_digit=i%10\n",
    "    revnum=revnum*10+last_digit\n",
    "    i//=10\n",
    "print(revnum)\n",
    "    \n",
    "    "
   ]
  },
  {
   "cell_type": "markdown",
   "id": "532c5c64",
   "metadata": {},
   "source": [
    "### PALINDROME NUMBER\n",
    "\n",
    "\n",
    "\n",
    "Write a program to determine if given number is palindrome or not. Print true if it is palindrome, false otherwise.\n",
    "Palindrome are the numbers for which reverse is exactly same as the original one. For eg. 121"
   ]
  },
  {
   "cell_type": "code",
   "execution_count": 10,
   "id": "f7d88cd5",
   "metadata": {},
   "outputs": [
    {
     "name": "stdout",
     "output_type": "stream",
     "text": [
      "Enter the Number: 1038\n",
      "False\n"
     ]
    }
   ],
   "source": [
    "num=int(input(\"Enter the Number: \"))\n",
    "temp=num\n",
    "revnum=0\n",
    "while(temp>0):\n",
    "    ld=temp%10\n",
    "    revnum=revnum*10+ld\n",
    "    temp//=10\n",
    "isPalindrome=True\n",
    "if(num!=revnum):\n",
    "    isPalindrome=False\n",
    "print(isPalindrome)\n",
    "\n",
    "    \n",
    "\n"
   ]
  },
  {
   "cell_type": "markdown",
   "id": "aa5648a8",
   "metadata": {},
   "source": [
    "### SUM OF EVEN AND ODDS\n",
    "\n",
    "Write a program to input an integer N and print the sum of all its even digits and sum of all its odd digits separately.\n",
    "Digits mean numbers, not the places! That is, if the given integer is \"13245\", even digits are 2 & 4 and odd digits are 1, 3 & 5."
   ]
  },
  {
   "cell_type": "code",
   "execution_count": 12,
   "id": "729836d8",
   "metadata": {},
   "outputs": [
    {
     "name": "stdout",
     "output_type": "stream",
     "text": [
      "Enter the number: 12\n",
      "Sum of even digits is: 2 \n",
      "Sum of odd digits is: 1 \n"
     ]
    }
   ],
   "source": [
    "num=int(input(\"Enter the number: \"))\n",
    "temp = num\n",
    "sum_of_odds=0\n",
    "sum_of_evens=0\n",
    "while(temp>0):\n",
    "    ld=temp%10\n",
    "    if(ld%2==0):\n",
    "        sum_of_evens+=ld\n",
    "    else:\n",
    "        sum_of_odds+=ld\n",
    "    temp//=10\n",
    "print(\"Sum of even digits is: %d \"%sum_of_evens)\n",
    "print(\"Sum of odd digits is: %d \"%sum_of_odds)    \n",
    "    \n",
    "    "
   ]
  },
  {
   "cell_type": "markdown",
   "id": "2890b907",
   "metadata": {},
   "source": [
    "\n",
    "### Nth Fibonacci number\n",
    "\n",
    "Nth term of fibonacci series F(n) is calculated using following formula -\n",
    "    F(n) = F(n-1) + F(n-2), \n",
    "    Where, F(1) = F(2) = 1\n",
    "Provided N you have to find out the Nth Fibonacci Number.\n",
    "\n"
   ]
  },
  {
   "cell_type": "code",
   "execution_count": 8,
   "id": "fb1bef75",
   "metadata": {},
   "outputs": [
    {
     "name": "stdout",
     "output_type": "stream",
     "text": [
      "Enter the number7\n",
      "1\n",
      "2\n",
      "3\n",
      "5\n",
      "8\n",
      "13\n",
      "21\n"
     ]
    }
   ],
   "source": [
    "n=int(input(\"Enter the number\"))\n",
    "f0=0\n",
    "f1=1\n",
    "f=-1\n",
    "i=0\n",
    "while(i<n):\n",
    "    f=f0+f1\n",
    "    print(f)\n",
    "    f0=f1\n",
    "    f1=f\n",
    "    i+=1\n",
    "    \n",
    "    "
   ]
  }
 ],
 "metadata": {
  "kernelspec": {
   "display_name": "Python 3 (ipykernel)",
   "language": "python",
   "name": "python3"
  },
  "language_info": {
   "codemirror_mode": {
    "name": "ipython",
    "version": 3
   },
   "file_extension": ".py",
   "mimetype": "text/x-python",
   "name": "python",
   "nbconvert_exporter": "python",
   "pygments_lexer": "ipython3",
   "version": "3.10.6"
  }
 },
 "nbformat": 4,
 "nbformat_minor": 5
}

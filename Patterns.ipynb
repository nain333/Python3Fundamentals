{
 "cells": [
  {
   "cell_type": "markdown",
   "id": "e8a4a39b",
   "metadata": {},
   "source": [
    "### Simple n*n pattern"
   ]
  },
  {
   "cell_type": "code",
   "execution_count": null,
   "id": "25b0517b",
   "metadata": {},
   "outputs": [],
   "source": []
  },
  {
   "cell_type": "code",
   "execution_count": 9,
   "id": "4e089217",
   "metadata": {},
   "outputs": [
    {
     "name": "stdout",
     "output_type": "stream",
     "text": [
      "Enter the size of the pattern:4\n",
      "* * * * \n",
      "* * * * \n",
      "* * * * \n",
      "* * * * \n"
     ]
    }
   ],
   "source": [
    "n=int(input(\"Enter the size of the pattern:\"))\n",
    "i=1\n",
    "while(i<=n):\n",
    "    j=1\n",
    "    while(j<=n):\n",
    "        print(\"*\", end=\" \" )\n",
    "        j+=1\n",
    "    print()\n",
    "    i+=1"
   ]
  },
  {
   "cell_type": "markdown",
   "id": "a1cdb0b8",
   "metadata": {},
   "source": [
    "### Square Patterns"
   ]
  },
  {
   "cell_type": "code",
   "execution_count": 12,
   "id": "05044094",
   "metadata": {},
   "outputs": [
    {
     "name": "stdout",
     "output_type": "stream",
     "text": [
      "Enter the size of the Pattern:4\n",
      "1 1 1 \n",
      "2 2 2 \n",
      "3 3 3 \n",
      "4 4 4 \n"
     ]
    }
   ],
   "source": [
    "n=int(input(\"Enter the size of the Pattern:\"))\n",
    "i=1\n",
    "while(i<=n):\n",
    "    j=1\n",
    "    while(j<n):\n",
    "        print(i,end=\" \")\n",
    "        j+=1\n",
    "    i+=1\n",
    "    print()"
   ]
  },
  {
   "cell_type": "code",
   "execution_count": 14,
   "id": "1ee4e9b5",
   "metadata": {},
   "outputs": [
    {
     "name": "stdout",
     "output_type": "stream",
     "text": [
      "Enter the size of the Pattern: 4\n",
      "1 2 3 4 \n",
      "1 2 3 4 \n",
      "1 2 3 4 \n",
      "1 2 3 4 \n"
     ]
    }
   ],
   "source": [
    "n=int(input(\"Enter the size of the Pattern: \"))\n",
    "i=1\n",
    "while(i<=n):\n",
    "    j=1\n",
    "    while(j<=n):\n",
    "        print(j,end=\" \")\n",
    "        j+=1\n",
    "    print()\n",
    "    i+=1\n",
    "        "
   ]
  },
  {
   "cell_type": "code",
   "execution_count": 17,
   "id": "0de6a557",
   "metadata": {},
   "outputs": [
    {
     "name": "stdout",
     "output_type": "stream",
     "text": [
      "Enter the size of the patter:4\n",
      "4 3 2 1 \n",
      "4 3 2 1 \n",
      "4 3 2 1 \n",
      "4 3 2 1 \n"
     ]
    }
   ],
   "source": [
    "n=int(input(\"Enter the size of the patter:\"))\n",
    "i=1\n",
    "while(i<=n):\n",
    "    j=1\n",
    "    p=n\n",
    "    while(j<=n):\n",
    "        print(p,end=\" \")\n",
    "        p-=1\n",
    "        j+=1\n",
    "    print()\n",
    "    i+=1"
   ]
  },
  {
   "cell_type": "markdown",
   "id": "2e1e33f5",
   "metadata": {},
   "source": [
    "### Trianglar Pattern"
   ]
  },
  {
   "cell_type": "code",
   "execution_count": 19,
   "id": "e1411aa6",
   "metadata": {},
   "outputs": [
    {
     "name": "stdout",
     "output_type": "stream",
     "text": [
      "Enter the size of Pattern: 4\n",
      "1 \n",
      "1 2 \n",
      "1 2 3 \n",
      "1 2 3 4 \n"
     ]
    }
   ],
   "source": [
    "n=int(input(\"Enter the size of Pattern: \"))\n",
    "i=1\n",
    "while(i<=n):\n",
    "    j=1\n",
    "    while(j<=i):\n",
    "        print(j, end=\" \")\n",
    "        j+=1\n",
    "    print()\n",
    "    i+=1"
   ]
  },
  {
   "cell_type": "code",
   "execution_count": 20,
   "id": "177361ab",
   "metadata": {},
   "outputs": [
    {
     "name": "stdout",
     "output_type": "stream",
     "text": [
      "Enter the size of Pattern: 4\n",
      "1 \n",
      "2 3 \n",
      "4 5 6 \n",
      "7 8 9 10 \n"
     ]
    }
   ],
   "source": [
    "n=int(input(\"Enter the size of Pattern: \"))\n",
    "i=1\n",
    "p=1\n",
    "while(i<=n):\n",
    "    j=1\n",
    "    while(j<=i):\n",
    "        print(p,end=\" \")\n",
    "        j+=1\n",
    "        p+=1\n",
    "    print()\n",
    "    i+=1\n",
    "        \n",
    "        "
   ]
  },
  {
   "cell_type": "code",
   "execution_count": 24,
   "id": "886f9f9a",
   "metadata": {},
   "outputs": [
    {
     "name": "stdout",
     "output_type": "stream",
     "text": [
      "Enter the size: 4\n",
      "1 \n",
      "2 3 \n",
      "3 4 5 \n",
      "4 5 6 7 \n"
     ]
    }
   ],
   "source": [
    "n=int(input(\"Enter the size: \"))\n",
    "i=1\n",
    "while(i<=n):\n",
    "    j=1\n",
    "    p=i\n",
    "    while(j<=i):\n",
    "        print(p,end=\" \")\n",
    "        j+=1\n",
    "        p+=1\n",
    "    print()\n",
    "    i+=1\n",
    "    \n",
    "        \n",
    "        \n",
    "     \n",
    "    "
   ]
  },
  {
   "cell_type": "markdown",
   "id": "7046358a",
   "metadata": {},
   "source": [
    "### Character Patterns:"
   ]
  },
  {
   "cell_type": "code",
   "execution_count": 33,
   "id": "34eac29d",
   "metadata": {},
   "outputs": [
    {
     "name": "stdout",
     "output_type": "stream",
     "text": [
      "Enter the size of the pattern: 4\n",
      "A B C D \n",
      "A B C D \n",
      "A B C D \n",
      "A B C D \n"
     ]
    }
   ],
   "source": [
    "n=int(input(\"Enter the size of the pattern: \"))\n",
    "i=1\n",
    "while(i<=n):\n",
    "    j=1\n",
    "    while(j<=n):\n",
    "        print(chr((ord('A')+j)-1), end=\" \")\n",
    "        j+=1\n",
    "    print()\n",
    "    i+=1\n",
    "        \n",
    "        "
   ]
  },
  {
   "cell_type": "code",
   "execution_count": 36,
   "id": "1f5fca92",
   "metadata": {},
   "outputs": [
    {
     "name": "stdout",
     "output_type": "stream",
     "text": [
      "Please Enter the size of the Pattern4\n",
      "A B C D \n",
      "B C D E \n",
      "C D E F \n",
      "D E F G \n"
     ]
    }
   ],
   "source": [
    "n=int(input(\"Please Enter the size of the Pattern: \"))\n",
    "i=1\n",
    "while(i<=n):\n",
    "    p=i\n",
    "    j=1\n",
    "    while(j<=n):\n",
    "        print(chr(ord('A')+p-1),end=\" \")\n",
    "        j+=1\n",
    "        p+=1\n",
    "    print()\n",
    "    i+=1\n",
    "    "
   ]
  },
  {
   "cell_type": "code",
   "execution_count": 44,
   "id": "16d927d9",
   "metadata": {},
   "outputs": [
    {
     "name": "stdout",
     "output_type": "stream",
     "text": [
      "Enter the size of the Pattern: 5\n",
      "A B C D E \n",
      "F G H I J \n",
      "K L M N O \n",
      "P Q R S T \n",
      "U V W X Y \n"
     ]
    }
   ],
   "source": [
    "n=int(input(\"Enter the size of the Pattern: \"))\n",
    "i=1\n",
    "p=1\n",
    "while(i<=n):\n",
    "    j=1\n",
    "    \n",
    "    while(j<=n):\n",
    "        print(chr(ord('A')+p-1), end =\" \")\n",
    "        j+=1\n",
    "        p+=1\n",
    "    print()\n",
    "    i+=1"
   ]
  },
  {
   "cell_type": "code",
   "execution_count": 45,
   "id": "eafa654d",
   "metadata": {},
   "outputs": [
    {
     "name": "stdout",
     "output_type": "stream",
     "text": [
      "Enter the size of the pattern: 4\n",
      "A \n",
      "B C \n",
      "C D E \n",
      "D E F G \n"
     ]
    }
   ],
   "source": [
    "n=int(input(\"Enter the size of the pattern: \"))\n",
    "i=1\n",
    "while(i<=n):\n",
    "    p=i\n",
    "    j=1\n",
    "    while(j<=i):\n",
    "        print(chr(ord('A')+p-1), end=\" \")\n",
    "        j+=1\n",
    "        p+=1\n",
    "    print()\n",
    "    i+=1\n",
    "        \n",
    "    "
   ]
  },
  {
   "cell_type": "code",
   "execution_count": 54,
   "id": "f82f6dac",
   "metadata": {},
   "outputs": [
    {
     "name": "stdout",
     "output_type": "stream",
     "text": [
      "Please Enter the size of the pattern: 26\n",
      "Z \n",
      "Y Z \n",
      "X Y Z \n",
      "W X Y Z \n",
      "V W X Y Z \n",
      "U V W X Y Z \n",
      "T U V W X Y Z \n",
      "S T U V W X Y Z \n",
      "R S T U V W X Y Z \n",
      "Q R S T U V W X Y Z \n",
      "P Q R S T U V W X Y Z \n",
      "O P Q R S T U V W X Y Z \n",
      "N O P Q R S T U V W X Y Z \n",
      "M N O P Q R S T U V W X Y Z \n",
      "L M N O P Q R S T U V W X Y Z \n",
      "K L M N O P Q R S T U V W X Y Z \n",
      "J K L M N O P Q R S T U V W X Y Z \n",
      "I J K L M N O P Q R S T U V W X Y Z \n",
      "H I J K L M N O P Q R S T U V W X Y Z \n",
      "G H I J K L M N O P Q R S T U V W X Y Z \n",
      "F G H I J K L M N O P Q R S T U V W X Y Z \n",
      "E F G H I J K L M N O P Q R S T U V W X Y Z \n",
      "D E F G H I J K L M N O P Q R S T U V W X Y Z \n",
      "C D E F G H I J K L M N O P Q R S T U V W X Y Z \n",
      "B C D E F G H I J K L M N O P Q R S T U V W X Y Z \n",
      "A B C D E F G H I J K L M N O P Q R S T U V W X Y Z \n"
     ]
    }
   ],
   "source": [
    "n=int(input(\"Please Enter the size of the pattern: \"))\n",
    "i=1\n",
    "while(i<=n):\n",
    "    j=1\n",
    "    p=n-i+1\n",
    "    while(j<=i):\n",
    "        print(chr(ord('A')+p-1),end=\" \")\n",
    "        j+=1\n",
    "        p+=1\n",
    "    print()\n",
    "    i+=1\n",
    "        "
   ]
  },
  {
   "cell_type": "code",
   "execution_count": 59,
   "id": "bf92bdaf",
   "metadata": {},
   "outputs": [
    {
     "name": "stdout",
     "output_type": "stream",
     "text": [
      "Please Enter the size: 4\n",
      "1 \n",
      "1 1 \n",
      "2 0 2 \n",
      "3 0 0 3 \n"
     ]
    }
   ],
   "source": [
    "n=int(input(\"Please Enter the size: \"))\n",
    "i=1\n",
    "while(i<=n):\n",
    "    j=1\n",
    "    \n",
    "    while(j<=i):\n",
    "        if(i==1):\n",
    "            print(i,end=\" \")\n",
    "        else:\n",
    "            if(j==1 or j==i):\n",
    "                print(i-1,end=\" \")\n",
    "            else:\n",
    "                print(0,end=\" \")\n",
    "        j+=1\n",
    "    print()\n",
    "    i+=1\n"
   ]
  },
  {
   "cell_type": "code",
   "execution_count": 64,
   "id": "cfff05f0",
   "metadata": {},
   "outputs": [
    {
     "name": "stdout",
     "output_type": "stream",
     "text": [
      "Enter the size of the Pattern: 5\n",
      "1 \n",
      "1 1 \n",
      "1 2 1 \n",
      "1 2 2 1 \n",
      "1 2 2 2 1 \n"
     ]
    }
   ],
   "source": [
    "n=int(input(\"Enter the size of the Pattern: \"))\n",
    "i=1\n",
    "while(i<=n):\n",
    "    j=1\n",
    "    while(j<=i):\n",
    "        if(i==1):\n",
    "            print(i,end=\" \")\n",
    "        else:\n",
    "            if(j==1 or j==i):\n",
    "                print(1,end=\" \")\n",
    "            else:\n",
    "                print(2,end=\" \")\n",
    "        j+=1\n",
    "    print()\n",
    "    i+=1"
   ]
  },
  {
   "cell_type": "code",
   "execution_count": 68,
   "id": "4e80df1f",
   "metadata": {},
   "outputs": [
    {
     "name": "stdout",
     "output_type": "stream",
     "text": [
      "Enter the size of the Pattern: 5\n",
      "1 2 3 4 5 \n",
      "2 3 4 5 \n",
      "3 4 5 \n",
      "4 5 \n",
      "5 \n"
     ]
    }
   ],
   "source": [
    "n=int(input(\"Enter the size of the Pattern: \"))\n",
    "i=1\n",
    "while(i<=n):\n",
    "    p=i\n",
    "    j=1\n",
    "    while(j<=n-i+1):\n",
    "        print(p,end=\" \")\n",
    "        j+=1\n",
    "        p+=1\n",
    "    print()\n",
    "    i+=1\n",
    "    "
   ]
  },
  {
   "cell_type": "markdown",
   "id": "68fce416",
   "metadata": {},
   "source": [
    "### Alpha Pattern:"
   ]
  },
  {
   "cell_type": "code",
   "execution_count": 71,
   "id": "551e3a56",
   "metadata": {},
   "outputs": [
    {
     "name": "stdout",
     "output_type": "stream",
     "text": [
      "Enter the size of the Pattern: 26\n",
      "A \n",
      "B B \n",
      "C C C \n",
      "D D D D \n",
      "E E E E E \n",
      "F F F F F F \n",
      "G G G G G G G \n",
      "H H H H H H H H \n",
      "I I I I I I I I I \n",
      "J J J J J J J J J J \n",
      "K K K K K K K K K K K \n",
      "L L L L L L L L L L L L \n",
      "M M M M M M M M M M M M M \n",
      "N N N N N N N N N N N N N N \n",
      "O O O O O O O O O O O O O O O \n",
      "P P P P P P P P P P P P P P P P \n",
      "Q Q Q Q Q Q Q Q Q Q Q Q Q Q Q Q Q \n",
      "R R R R R R R R R R R R R R R R R R \n",
      "S S S S S S S S S S S S S S S S S S S \n",
      "T T T T T T T T T T T T T T T T T T T T \n",
      "U U U U U U U U U U U U U U U U U U U U U \n",
      "V V V V V V V V V V V V V V V V V V V V V V \n",
      "W W W W W W W W W W W W W W W W W W W W W W W \n",
      "X X X X X X X X X X X X X X X X X X X X X X X X \n",
      "Y Y Y Y Y Y Y Y Y Y Y Y Y Y Y Y Y Y Y Y Y Y Y Y Y \n",
      "Z Z Z Z Z Z Z Z Z Z Z Z Z Z Z Z Z Z Z Z Z Z Z Z Z Z \n"
     ]
    }
   ],
   "source": [
    "n=int(input(\"Enter the size of the Pattern: \"))\n",
    "i =1\n",
    "while(i<=n):\n",
    "    j=1\n",
    "    while(j<=i):\n",
    "        print(chr(ord('A')+i-1), end =\" \")\n",
    "        j+=1\n",
    "    print()\n",
    "    i+=1\n",
    "    \n",
    "    \n"
   ]
  },
  {
   "cell_type": "code",
   "execution_count": 73,
   "id": "7720a2e3",
   "metadata": {},
   "outputs": [
    {
     "name": "stdout",
     "output_type": "stream",
     "text": [
      "Enter the size of the triangle: 4\n",
      "        1 \n",
      "      1 2 \n",
      "    1 2 3 \n",
      "  1 2 3 4 \n"
     ]
    }
   ],
   "source": [
    "n=int(input(\"Enter the size of the triangle: \"))\n",
    "i=1\n",
    "while(i<=n):\n",
    "    spaces=1\n",
    "    while(spaces<=n-i+1):\n",
    "        print(\" \",end=\" \")\n",
    "        spaces+=1\n",
    "    stars=1\n",
    "    while(stars<=i):\n",
    "        print(stars, end=\" \")\n",
    "        stars+=1\n",
    "    print()\n",
    "    i+=1"
   ]
  },
  {
   "cell_type": "code",
   "execution_count": 74,
   "id": "5abb971d",
   "metadata": {},
   "outputs": [
    {
     "name": "stdout",
     "output_type": "stream",
     "text": [
      "Enter the size of the Pattern: 4\n",
      "        1 \n",
      "      1 2 1 \n",
      "    1 2 3 2 1 \n",
      "  1 2 3 4 3 2 1 \n"
     ]
    }
   ],
   "source": [
    "n=int(input(\"Enter the size of the Pattern: \"))\n",
    "i=1\n",
    "while(i<=n):\n",
    "    spaces=1\n",
    "    while(spaces<=n-i+1):\n",
    "        print(\" \",end=\" \")\n",
    "        spaces+=1\n",
    "    stars=1\n",
    "    while(stars<=i):\n",
    "        print(stars, end=\" \")\n",
    "        stars+=1\n",
    "    dec=i-1\n",
    "    while(dec>=1):\n",
    "        print(dec,end=\" \")\n",
    "        dec-=1\n",
    "    print()\n",
    "    i+=1\n",
    "        \n",
    "    \n",
    "        \n"
   ]
  },
  {
   "cell_type": "code",
   "execution_count": 84,
   "id": "7bc72ce5",
   "metadata": {},
   "outputs": [
    {
     "name": "stdout",
     "output_type": "stream",
     "text": [
      "Enter the size of the pattern: 4\n",
      "        1 \n",
      "      2 3 2 \n",
      "    3 4 5 4 3 \n",
      "  4 5 6 7 6 5 4 \n"
     ]
    }
   ],
   "source": [
    "n=int(input(\"Enter the size of the pattern: \"))\n",
    "i=1\n",
    "\n",
    "while(i<=n):\n",
    "    spaces=1\n",
    "    while(spaces<=n-i+1):\n",
    "        print(\" \",end=\" \")\n",
    "        spaces+=1\n",
    "    stars=1\n",
    "    p=i\n",
    "    while(stars<=i):\n",
    "        print(p,end=\" \")\n",
    "        stars+=1\n",
    "        p+=1\n",
    "    dec=i-1\n",
    "    dp=(2*(i-1))\n",
    "    while(dec>=1):\n",
    "        print(dp,end=\" \")\n",
    "        dec-=1\n",
    "        dp-=1\n",
    "    print()\n",
    "    i+=1"
   ]
  },
  {
   "cell_type": "markdown",
   "id": "d255c4a2",
   "metadata": {},
   "source": [
    "### DIAMOND OF STARS"
   ]
  },
  {
   "cell_type": "code",
   "execution_count": 159,
   "id": "179cff8f",
   "metadata": {},
   "outputs": [
    {
     "name": "stdout",
     "output_type": "stream",
     "text": [
      "Enter the size only odd: 31\n",
      "                              * \n",
      "                            * * * \n",
      "                          * * * * * \n",
      "                        * * * * * * * \n",
      "                      * * * * * * * * * \n",
      "                    * * * * * * * * * * * \n",
      "                  * * * * * * * * * * * * * \n",
      "                * * * * * * * * * * * * * * * \n",
      "              * * * * * * * * * * * * * * * * * \n",
      "            * * * * * * * * * * * * * * * * * * * \n",
      "          * * * * * * * * * * * * * * * * * * * * * \n",
      "        * * * * * * * * * * * * * * * * * * * * * * * \n",
      "      * * * * * * * * * * * * * * * * * * * * * * * * * \n",
      "    * * * * * * * * * * * * * * * * * * * * * * * * * * * \n",
      "  * * * * * * * * * * * * * * * * * * * * * * * * * * * * * \n",
      "* * * * * * * * * * * * * * * * * * * * * * * * * * * * * * * \n",
      "  * * * * * * * * * * * * * * * * * * * * * * * * * * * * * \n",
      "    * * * * * * * * * * * * * * * * * * * * * * * * * * * \n",
      "      * * * * * * * * * * * * * * * * * * * * * * * * * \n",
      "        * * * * * * * * * * * * * * * * * * * * * * * \n",
      "          * * * * * * * * * * * * * * * * * * * * * \n",
      "            * * * * * * * * * * * * * * * * * * * \n",
      "              * * * * * * * * * * * * * * * * * \n",
      "                * * * * * * * * * * * * * * * \n",
      "                  * * * * * * * * * * * * * \n",
      "                    * * * * * * * * * * * \n",
      "                      * * * * * * * * * \n",
      "                        * * * * * * * \n",
      "                          * * * * * \n",
      "                            * * * \n",
      "                              * \n"
     ]
    }
   ],
   "source": [
    "n=int(input(\"Enter the size only odd: \"))\n",
    "if(n%2==0):\n",
    "    print(\"Number is not even invalid input. Please provide any odd number.\")\n",
    "else:\n",
    "    i=1\n",
    "    while(i<=n//2+1):\n",
    "#     upper half of the pattern:\n",
    "        spaces=1\n",
    "        while(spaces<=((n//2)-i+1)):\n",
    "            print(\" \",end=\" \")\n",
    "            spaces+=1\n",
    "        stars=1\n",
    "        while(stars<=i):\n",
    "            print(\"*\",end=\" \")\n",
    "            stars+=1\n",
    "#         upper part decremant part:\n",
    "        ls=1\n",
    "        while(ls<=i-1):\n",
    "            print(\"*\",end=\" \")\n",
    "            ls+=1\n",
    "        print()\n",
    "        i+=1\n",
    "        \n",
    "#      lower part of the diamond:\n",
    "    while(i<=n):\n",
    "        spaces=1\n",
    "        while(spaces<=i-(n//2+1)):\n",
    "            print(\" \",end=\" \")\n",
    "            spaces+=1;\n",
    "        stars=1\n",
    "        while(stars<=n-i+1):\n",
    "            print(\"*\",end=\" \")\n",
    "            stars+=1\n",
    "#     lower part decreament part\n",
    "        ds=1\n",
    "        while(ds<=n-i):\n",
    "            print(\"*\",end=\" \")\n",
    "            ds+=1\n",
    "        print()\n",
    "        i+=1\n",
    "    \n",
    "    \n",
    "    \n",
    "    \n",
    "\n",
    "    "
   ]
  },
  {
   "cell_type": "code",
   "execution_count": 182,
   "id": "c5565d18",
   "metadata": {},
   "outputs": [
    {
     "name": "stdout",
     "output_type": "stream",
     "text": [
      "Enter the size of the patter: 9\n",
      "1                1\n",
      "12              21\n",
      "123            321\n",
      "1234          4321\n",
      "12345        54321\n",
      "123456      654321\n",
      "1234567    7654321\n",
      "12345678  87654321\n",
      "123456789987654321\n"
     ]
    }
   ],
   "source": [
    "n=int(input(\"Enter the size of the patter: \"))\n",
    "i=1\n",
    "while(i<=n):\n",
    "    stars=1\n",
    "    while(stars<=i):\n",
    "        print(stars,end=\"\")\n",
    "        stars+=1\n",
    "    spaces=1\n",
    "    while(spaces<=((2*n)-(2*i))):\n",
    "        print(\" \",end=\"\")\n",
    "        spaces+=1\n",
    "    dnums=1\n",
    "    pd=i\n",
    "    while(dnums<=i):\n",
    "        print(pd,end=\"\")\n",
    "        pd-=1\n",
    "        dnums+=1\n",
    "    print()\n",
    "    i+=1\n",
    "    \n",
    "    \n",
    "    "
   ]
  },
  {
   "cell_type": "code",
   "execution_count": 194,
   "id": "75294f84",
   "metadata": {},
   "outputs": [
    {
     "name": "stdout",
     "output_type": "stream",
     "text": [
      "Enter the size of the pattern (odd only):13\n",
      "* \n",
      " * * \n",
      "  * * * \n",
      "   * * * * \n",
      "    * * * * * \n",
      "     * * * * * * \n",
      "      * * * * * * * \n",
      "     * * * * * * \n",
      "    * * * * * \n",
      "   * * * * \n",
      "  * * * \n",
      " * * \n",
      "* \n"
     ]
    }
   ],
   "source": [
    "n=int(input(\"Enter the size of the pattern (odd only):\"))\n",
    "if(n%2==0):\n",
    "    print(\"Invalid choice: Please Enter odd number \")\n",
    "else:\n",
    "    n1=n//2+1\n",
    "    i=1\n",
    "    while(i<=n1):\n",
    "        spaces=1\n",
    "        while(spaces<=i-1):\n",
    "            print(\" \",end=\"\")\n",
    "            spaces+=1\n",
    "        stars=1\n",
    "        while(stars<=(i)):\n",
    "            print(\"* \",end=\"\")\n",
    "            stars+=1\n",
    "        print()\n",
    "        i+=1\n",
    "    while(i<=n):\n",
    "        spaces=1\n",
    "        while(spaces<=n-i):\n",
    "            print(\" \",end=\"\")\n",
    "            spaces+=1\n",
    "        stars=1\n",
    "        while(stars<=n-i+1):\n",
    "            print(\"* \",end=\"\")\n",
    "            stars+=1\n",
    "        print()\n",
    "        i+=1\n",
    "            \n",
    "            \n",
    "            \n",
    "        "
   ]
  }
 ],
 "metadata": {
  "kernelspec": {
   "display_name": "Python 3 (ipykernel)",
   "language": "python",
   "name": "python3"
  },
  "language_info": {
   "codemirror_mode": {
    "name": "ipython",
    "version": 3
   },
   "file_extension": ".py",
   "mimetype": "text/x-python",
   "name": "python",
   "nbconvert_exporter": "python",
   "pygments_lexer": "ipython3",
   "version": "3.10.6"
  }
 },
 "nbformat": 4,
 "nbformat_minor": 5
}

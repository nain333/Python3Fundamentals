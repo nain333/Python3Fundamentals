{
 "cells": [
  {
   "cell_type": "markdown",
   "id": "f7001b7a",
   "metadata": {},
   "source": [
    "\n",
    "\n",
    "\n",
    "### Print  Statements\n"
   ]
  },
  {
   "cell_type": "code",
   "execution_count": 38,
   "id": "bc412a4b",
   "metadata": {},
   "outputs": [
    {
     "name": "stdout",
     "output_type": "stream",
     "text": [
      "Hello Pyton!\n",
      "Himanshu's notebook\n",
      "/Starboy/notebook\n"
     ]
    }
   ],
   "source": [
    "print(\"Hello Pyton!\")\n",
    "print(\"Himanshu\\'s notebook\")\n",
    "#this is a sample_comment and will be ignored by the interpretter\n",
    "\n",
    "print(\"/Starboy/notebook\")\n"
   ]
  },
  {
   "cell_type": "markdown",
   "id": "1a002ca1",
   "metadata": {},
   "source": [
    "### Variables"
   ]
  },
  {
   "cell_type": "code",
   "execution_count": 44,
   "id": "115445d0",
   "metadata": {},
   "outputs": [
    {
     "name": "stdout",
     "output_type": "stream",
     "text": [
      "30\n"
     ]
    }
   ],
   "source": [
    "i = 10\n",
    "j =20\n",
    "sum =i + j\n",
    "print ( sum)\n",
    "\n",
    "\n"
   ]
  },
  {
   "cell_type": "markdown",
   "id": "3f14625c",
   "metadata": {},
   "source": [
    "Variables name conventions:\n",
    "    - Can have alphabat.\n",
    "    - can have a digit.\n",
    "    -can have underScore(\"_\") between them\n",
    "    - can't start with a number.\n",
    "    "
   ]
  },
  {
   "cell_type": "markdown",
   "id": "79db059c",
   "metadata": {},
   "source": [
    "### Assigning Different type of data to a variable"
   ]
  },
  {
   "cell_type": "code",
   "execution_count": 45,
   "id": "b84c1be9",
   "metadata": {},
   "outputs": [
    {
     "name": "stdout",
     "output_type": "stream",
     "text": [
      "Himanshu\n"
     ]
    }
   ],
   "source": [
    "a=\"Himanshu\"\n",
    "print(a)\n",
    "#python creates the storage again. so it allowds to change the data type of a variable unlike statically typed languages like\n",
    "#java or pyton.\n",
    "#python's variable just updates the reference to the sotrage it's pointing to. And the refrences are of same size.\n",
    "# it doesn't really matter to python interpretter so it allows ;)\n",
    "\n"
   ]
  },
  {
   "cell_type": "markdown",
   "id": "a02080f8",
   "metadata": {},
   "source": [
    "type() function:\n",
    "    -it returns the type of data currently stored in a variable "
   ]
  },
  {
   "cell_type": "code",
   "execution_count": 47,
   "id": "e03581d6",
   "metadata": {},
   "outputs": [
    {
     "name": "stdout",
     "output_type": "stream",
     "text": [
      "<class 'str'>\n"
     ]
    }
   ],
   "source": [
    "print(type(a))"
   ]
  },
  {
   "cell_type": "markdown",
   "id": "c6d278ee",
   "metadata": {},
   "source": [
    "# Python Numbers"
   ]
  },
  {
   "cell_type": "code",
   "execution_count": 53,
   "id": "c1dd83c6",
   "metadata": {},
   "outputs": [
    {
     "name": "stdout",
     "output_type": "stream",
     "text": [
      "<class 'int'>\n",
      "<class 'float'>\n",
      "<class 'complex'>\n"
     ]
    }
   ],
   "source": [
    "a1 = 11;\n",
    "a2 =1.1;\n",
    "a3 = 4+5j;\n",
    "print( type(a1))\n",
    "print (type (a2))\n",
    "print (type(a3))\n",
    "# we can also have complex numbers in python."
   ]
  },
  {
   "cell_type": "code",
   "execution_count": 58,
   "id": "4c6888b6",
   "metadata": {},
   "outputs": [
    {
     "name": "stdout",
     "output_type": "stream",
     "text": [
      "140425972777488\n",
      "140425972777520\n"
     ]
    }
   ],
   "source": [
    "a= 10;\n",
    "print(id(a))\n",
    "a= a+1;\n",
    "print(id(a))\n",
    "#  the increament is not really help in the value of a. A seprate storage is being created by the interpretter,\n",
    "#  which is storing the value of a+1. and then the refrence to that address is being stored in variable a.\n",
    "# so the a varible is not pointing to itself, it inturn pointing to a memory refrence which is storing a+1.\n",
    "# so not the actual increament have been done in the value of a itself. It is the anothter memory which is being\n",
    "# created and passed to the variable a and  the a is pointing to the memory location that has the increased value\n",
    "#  of a in intself.\n",
    "# id function returns the refrence of a memory location. And this thing is proved that a is actually storing differnt \n",
    "#  refrence is being prooved in the output read the output carefully to have a look at this fact.\n",
    "\n"
   ]
  },
  {
   "cell_type": "raw",
   "id": "97b37b18",
   "metadata": {},
   "source": []
  },
  {
   "cell_type": "code",
   "execution_count": 89,
   "id": "02863687",
   "metadata": {},
   "outputs": [
    {
     "name": "stdout",
     "output_type": "stream",
     "text": [
      "The refrence of a is, 140425972777488\n",
      "The refrence of b is, 140425972777488\n",
      "The refrence of c is, 140425838499312\n",
      "The refrence of d is, 140425838508944\n"
     ]
    }
   ],
   "source": [
    "a=10 \n",
    "b=10\n",
    "print (\"The refrence of a is, %d\" %(id(a)))\n",
    "print (\"The refrence of b is, %d\" %(id(b)))\n",
    "# optimiztion done by pyton interpretter the value 10  is stored somewhere in the memory and both a and b are pointing\n",
    "# to the same location.\n",
    "#  as soon as you change the value in the variable it will start pointing to the  newly created memory location to\n",
    "# store that number.\n",
    "c= 1000\n",
    "d=1000\n",
    "print(\"The refrence of c is, %d\"%(id(c)))\n",
    "print(\"The refrence of d is, %d\"%((id(d))))\n",
    "# now the output of id will be different for c and d.\n",
    "# Python is doing this optimization but it is doing this optimizing only for the number in the \n",
    "# range <-5...256>.\n",
    "# reason being the numbers in the range mentioned above are very common and a lot of variables will have these numbers\n",
    "# inside them."
   ]
  },
  {
   "cell_type": "markdown",
   "id": "ccf0716f",
   "metadata": {},
   "source": [
    "### Limit of Integers in python"
   ]
  },
  {
   "cell_type": "code",
   "execution_count": 90,
   "id": "516f57a7",
   "metadata": {},
   "outputs": [
    {
     "name": "stdout",
     "output_type": "stream",
     "text": [
      "99999999999999999999999999999999999999999999\n"
     ]
    }
   ],
   "source": [
    "a=99999999999999999999999999999999999999999999\n",
    "print(a)\n",
    "# in python there is no limit to  how big an integer you can store in a variable unlike java/c++.\n",
    "# in the memory created for the variable there is metadata block along with the actual number that how big that number is.\n",
    "# for a longer number python will creat a longer memory.\n",
    "# so, in python there is no limit to how long number you can store. But however there is a limit that how much memory does\n",
    "# the python program is allowed to use.\n",
    "\n"
   ]
  },
  {
   "cell_type": "markdown",
   "id": "9394809c",
   "metadata": {},
   "source": [
    "### Arthematic operators in java"
   ]
  },
  {
   "cell_type": "code",
   "execution_count": null,
   "id": "18af069e",
   "metadata": {},
   "outputs": [],
   "source": [
    "a=10\n",
    "b=20\n",
    "print(a-b)\n",
    "print(a+b)\n",
    "print(a*b)\n",
    "print(a/b)\n",
    "# a/b retrun the exect floating point value.\n",
    "print(a//b)\n",
    "# // operator is often called as integral divison.. will provide the integer value only for  the divison.\n",
    "print(a**b)\n",
    "# a^b\n",
    "print (b%a)\n",
    "# always use () for presidence management.\n",
    "\n"
   ]
  },
  {
   "cell_type": "markdown",
   "id": "a8a1f8e0",
   "metadata": {},
   "source": [
    "# Simple Interest"
   ]
  },
  {
   "cell_type": "code",
   "execution_count": 99,
   "id": "82b4c31d",
   "metadata": {},
   "outputs": [
    {
     "name": "stdout",
     "output_type": "stream",
     "text": [
      "The simple  Interest is: 10 \n"
     ]
    }
   ],
   "source": [
    "p=100\n",
    "r=5\n",
    "t=2\n",
    "si = (p*r*t)//100\n",
    "print(\"The simple  Interest is: %d \"%si)"
   ]
  },
  {
   "cell_type": "markdown",
   "id": "719c328c",
   "metadata": {},
   "source": [
    "# Ferhanite to celcius Conversion"
   ]
  },
  {
   "cell_type": "code",
   "execution_count": 102,
   "id": "71b036d0",
   "metadata": {},
   "outputs": [
    {
     "name": "stdout",
     "output_type": "stream",
     "text": [
      "37.77777777777778\n",
      "37\n"
     ]
    }
   ],
   "source": [
    "f=100\n",
    "c=((f-32)*5)/9\n",
    "print(c)\n",
    "ci = ((f-32)*5)//9\n",
    "print(ci)"
   ]
  },
  {
   "cell_type": "markdown",
   "id": "0eb30c09",
   "metadata": {},
   "source": [
    "# User input"
   ]
  },
  {
   "cell_type": "code",
   "execution_count": 106,
   "id": "6ff0523d",
   "metadata": {},
   "outputs": [
    {
     "name": "stdout",
     "output_type": "stream",
     "text": [
      "23\n",
      "34\n",
      "2334\n",
      "<class 'str'>\n"
     ]
    }
   ],
   "source": [
    "a=input()\n",
    "b=input()\n",
    "s=a+b\n",
    "print(s)\n",
    "print(type(a))\n",
    "# looks like input is always returning a string value regardless of what value user had given.\n",
    "\n",
    "\n"
   ]
  },
  {
   "cell_type": "code",
   "execution_count": 116,
   "id": "d5284ada",
   "metadata": {},
   "outputs": [
    {
     "name": "stdout",
     "output_type": "stream",
     "text": [
      "Please Enter the Principal Amount: 100\n",
      "Please Enter the Rate: 5\n",
      "Please Enter the time: 2\n",
      "The simple Interest is: 10\n"
     ]
    }
   ],
   "source": [
    "# convert string to int that is conver input to int\n",
    "p= int(input(\"Please Enter the Principal Amount: \"))\n",
    "r= int(input(\"Please Enter the Rate: \"))\n",
    "t= int(input(\"Please Enter the time: \"))\n",
    "si= ((p*r*t)/100)\n",
    "print(\"The simple Interest is: %d\"%si)"
   ]
  },
  {
   "cell_type": "markdown",
   "id": "6360d593",
   "metadata": {},
   "source": [
    "### Nested ELIF"
   ]
  },
  {
   "cell_type": "code",
   "execution_count": 117,
   "id": "39efe609",
   "metadata": {},
   "outputs": [
    {
     "name": "stdout",
     "output_type": "stream",
     "text": [
      "2\n",
      "4\n",
      "1\n"
     ]
    }
   ],
   "source": [
    "n=int(input())\n",
    "m=int(input())\n",
    "if (n%2==0):\n",
    "    if(m%2==0):\n",
    "        print(1)\n",
    "    else:\n",
    "        print(2)\n",
    "else:\n",
    "    print(3)"
   ]
  }
 ],
 "metadata": {
  "kernelspec": {
   "display_name": "Python 3 (ipykernel)",
   "language": "python",
   "name": "python3"
  },
  "language_info": {
   "codemirror_mode": {
    "name": "ipython",
    "version": 3
   },
   "file_extension": ".py",
   "mimetype": "text/x-python",
   "name": "python",
   "nbconvert_exporter": "python",
   "pygments_lexer": "ipython3",
   "version": "3.10.6"
  }
 },
 "nbformat": 4,
 "nbformat_minor": 5
}

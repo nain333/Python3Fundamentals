{
 "cells": [
  {
   "cell_type": "code",
   "execution_count": 2,
   "id": "a79cb55c",
   "metadata": {
    "scrolled": true
   },
   "outputs": [
    {
     "name": "stdout",
     "output_type": "stream",
     "text": [
      "H\n",
      "i\n",
      "m\n",
      "a\n",
      "n\n",
      "s\n",
      "h\n",
      "u\n"
     ]
    }
   ],
   "source": [
    "x=\"Himanshu\"\n",
    "for alph in x:\n",
    "    print(alph)"
   ]
  },
  {
   "cell_type": "code",
   "execution_count": 7,
   "id": "63a72daa",
   "metadata": {
    "scrolled": true
   },
   "outputs": [
    {
     "name": "stdout",
     "output_type": "stream",
     "text": [
      "Enter the value of n: 4\n",
      "1\n",
      "3\n"
     ]
    }
   ],
   "source": [
    "n = int(input(\"Enter the value of n: \")) \n",
    "for num in range(1,n+1,2):\n",
    "#     start,stop,stride/step(exclusive)\n",
    "    print(num)\n",
    "    "
   ]
  },
  {
   "cell_type": "code",
   "execution_count": 9,
   "id": "bba4e0ff",
   "metadata": {},
   "outputs": [
    {
     "name": "stdout",
     "output_type": "stream",
     "text": [
      "4\n",
      "3\n",
      "2\n",
      "1\n"
     ]
    }
   ],
   "source": [
    "for i in range (n,0,-1):\n",
    "    print(i)"
   ]
  },
  {
   "cell_type": "markdown",
   "id": "dfea4ec6",
   "metadata": {},
   "source": [
    "### Check Prime"
   ]
  },
  {
   "cell_type": "code",
   "execution_count": 17,
   "id": "2350cf99",
   "metadata": {},
   "outputs": [
    {
     "name": "stdout",
     "output_type": "stream",
     "text": [
      "Enter the number: 35713171913\n",
      "composite\n"
     ]
    }
   ],
   "source": [
    "n=int(input(\"Enter the number: \"))\n",
    "isPrime=True\n",
    "for i in range(2,n,1):\n",
    "    if(n%i==0):\n",
    "        print(\"composite\")\n",
    "        break\n",
    "    \n",
    "else:\n",
    "    print(\"prime\")\n",
    "        \n",
    "    "
   ]
  },
  {
   "cell_type": "code",
   "execution_count": 36,
   "id": "2250cecf",
   "metadata": {},
   "outputs": [
    {
     "name": "stdout",
     "output_type": "stream",
     "text": [
      "Enter the size of the pattern: 4\n",
      "   1\n",
      "  232\n",
      " 34543\n",
      "4567654\n"
     ]
    }
   ],
   "source": [
    "n=int(input(\"Enter the size of the pattern: \"))\n",
    "\n",
    "for i in range(1,n+1,1):\n",
    "    p=i\n",
    "    for spaces in range(1,n-i+1,1):\n",
    "        print(\" \",end=\"\")\n",
    "    for stars in range(1,i+1,1):\n",
    "        print(p,end=\"\")\n",
    "        p+=1\n",
    "    pd=2*(i-1)\n",
    "    for decn in range(1,i):\n",
    "        \n",
    "        print(pd,end=\"\")\n",
    "        pd-=1\n",
    "        \n",
    "    print()\n",
    "    "
   ]
  },
  {
   "cell_type": "markdown",
   "id": "cc66169c",
   "metadata": {},
   "source": [
    "### Multiples of 3:"
   ]
  },
  {
   "cell_type": "code",
   "execution_count": 40,
   "id": "ab897c4b",
   "metadata": {},
   "outputs": [
    {
     "name": "stdout",
     "output_type": "stream",
     "text": [
      "Enter the value of a: 1\n",
      "Enter the value of b: 10\n",
      "3\n",
      "6\n",
      "9\n"
     ]
    }
   ],
   "source": [
    "a=int(input(\"Enter the value of a: \"))\n",
    "b=int(input(\"Enter the value of b: \"))\n",
    "if(a%3==1):\n",
    "    a+=2\n",
    "elif(a%3==2):\n",
    "    a+=1\n",
    "for mul in range(a , b+1,3):\n",
    "    print(mul)\n",
    "        "
   ]
  },
  {
   "cell_type": "markdown",
   "id": "0e986299",
   "metadata": {},
   "source": [
    "### ELSE WITH WHILE"
   ]
  },
  {
   "cell_type": "code",
   "execution_count": 2,
   "id": "92f68674",
   "metadata": {},
   "outputs": [
    {
     "name": "stdout",
     "output_type": "stream",
     "text": [
      "1\n",
      "2\n",
      "3\n",
      "4\n",
      "5\n",
      "6\n",
      "7\n",
      "8\n",
      "9\n",
      "10\n",
      "this will be printed once at end\n"
     ]
    }
   ],
   "source": [
    "# in python else can be use with loops like conditionals\n",
    "# if a loop is negated the flow of code will move to the else block\n",
    "i=1\n",
    "while(i<11):\n",
    "    print(i)\n",
    "    i+=1\n",
    "else:\n",
    "    print(\"this will be printed once at end\")"
   ]
  },
  {
   "cell_type": "code",
   "execution_count": 4,
   "id": "b6c53546",
   "metadata": {},
   "outputs": [
    {
     "name": "stdout",
     "output_type": "stream",
     "text": [
      "1\n",
      "2\n",
      "3\n",
      "4\n",
      "5\n",
      "6\n",
      "7\n",
      "8\n",
      "9\n",
      "10\n",
      "this will also get printed once at the end:\n"
     ]
    }
   ],
   "source": [
    "for i in range(1,11,1):\n",
    "    print(i)\n",
    "else:\n",
    "    print(\"this will also get printed once at the end:\")"
   ]
  },
  {
   "cell_type": "code",
   "execution_count": 5,
   "id": "ded00b3c",
   "metadata": {},
   "outputs": [
    {
     "name": "stdout",
     "output_type": "stream",
     "text": [
      "1\n",
      "2\n",
      "3\n",
      "4\n",
      "5\n",
      "6\n",
      "7\n",
      "8\n",
      "9\n",
      "10\n",
      "this will get printed once in the end\n"
     ]
    }
   ],
   "source": [
    "for i in range (1,11):\n",
    "    print(i)\n",
    "print(\"this will get printed once in the end\")\n",
    "# Here also the for loop will run and the statement will be printed only once.\n",
    "# So why we even need else?\n",
    "# this else becomes interesting when we use it along with break\n",
    "# code inside else will not be executed if loop is terminated because of break statement"
   ]
  },
  {
   "cell_type": "code",
   "execution_count": 6,
   "id": "942bf27a",
   "metadata": {},
   "outputs": [
    {
     "name": "stdout",
     "output_type": "stream",
     "text": [
      "1\n",
      "2\n",
      "3\n",
      "4\n"
     ]
    }
   ],
   "source": [
    "for i in range(1,11):\n",
    "    if (i==5):\n",
    "        break\n",
    "    print(i)\n",
    "else:\n",
    "    print(\"this will be printed once\")"
   ]
  },
  {
   "cell_type": "markdown",
   "id": "23faf626",
   "metadata": {},
   "source": [
    "### Continue"
   ]
  },
  {
   "cell_type": "code",
   "execution_count": 18,
   "id": "e6bcd409",
   "metadata": {},
   "outputs": [],
   "source": [
    "#  Continue skips the current itration"
   ]
  },
  {
   "cell_type": "code",
   "execution_count": 20,
   "id": "e09d0070",
   "metadata": {},
   "outputs": [
    {
     "name": "stdout",
     "output_type": "stream",
     "text": [
      "1\n",
      "3\n",
      "5\n",
      "7\n",
      "9\n"
     ]
    }
   ],
   "source": [
    "for i in range(1,11):\n",
    "    if(i%2==0):\n",
    "        continue\n",
    "    else:\n",
    "        print(i)"
   ]
  },
  {
   "cell_type": "markdown",
   "id": "fbf961bb",
   "metadata": {},
   "source": [
    "### Pass"
   ]
  },
  {
   "cell_type": "code",
   "execution_count": 21,
   "id": "1409f667",
   "metadata": {},
   "outputs": [],
   "source": [
    "# it is a dummy statement which is used to paas loops and conditions"
   ]
  }
 ],
 "metadata": {
  "kernelspec": {
   "display_name": "Python 3 (ipykernel)",
   "language": "python",
   "name": "python3"
  },
  "language_info": {
   "codemirror_mode": {
    "name": "ipython",
    "version": 3
   },
   "file_extension": ".py",
   "mimetype": "text/x-python",
   "name": "python",
   "nbconvert_exporter": "python",
   "pygments_lexer": "ipython3",
   "version": "3.10.6"
  }
 },
 "nbformat": 4,
 "nbformat_minor": 5
}

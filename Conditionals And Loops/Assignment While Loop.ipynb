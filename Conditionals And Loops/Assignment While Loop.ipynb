{
 "cells": [
  {
   "cell_type": "markdown",
   "id": "4f69bdbb",
   "metadata": {},
   "source": [
    "### Calculator"
   ]
  },
  {
   "cell_type": "code",
   "execution_count": 4,
   "id": "e7507736",
   "metadata": {},
   "outputs": [
    {
     "data": {
      "text/plain": [
       "'\\nHello this is a simple comment\\n'"
      ]
     },
     "execution_count": 4,
     "metadata": {},
     "output_type": "execute_result"
    }
   ],
   "source": [
    "\n",
    "\"\"\"\n",
    "Write a program that performs the tasks of a simple calculator. The program should first take an integer as input and then based on that integer perform the task as given below.\n",
    "1. If the input is 1, then 2 integers are taken from the user and their sum is printed.\n",
    "2. If the input is 2, then 2 integers are taken from the user and their difference(1st number - 2nd number) is printed.\n",
    "3. If the input is 3, then 2 integers are taken from the user and their product is printed.\n",
    "4. If the input is 4, then 2 integers are taken from the user and the quotient obtained (on dividing 1st number by 2nd number) is printed.\n",
    "5. If the input is 5, then 2 integers are taken from the user and their remainder(1st number mod 2nd number) is printed.\n",
    "6. If the input is 6, then the program exits.\n",
    "7. For any other input, then print \"Invalid Operation\".\n",
    "\"\"\"\n",
    "\n",
    "\n"
   ]
  },
  {
   "cell_type": "code",
   "execution_count": 13,
   "id": "bdea9140",
   "metadata": {},
   "outputs": [
    {
     "name": "stdout",
     "output_type": "stream",
     "text": [
      "Please Press 1 for Adding Two Integers.\n",
      "Please Press 2 for the difference of two integers\n",
      "Please Press 3 for the product of two integers\n",
      "Please Press 4 for the division of two integers.\n",
      "Please Enter 5 for the remainder of 2 integers.\n",
      "Pplease Press 6 to Exit the program\n",
      "Please Enter the  choice of operations from the options Above: 6\n",
      "Exit\n"
     ]
    }
   ],
   "source": [
    "print(\"Please Press 1 for Adding Two Integers.\\nPlease Press 2 for the difference of two integers\\nPlease Press 3 for the product of two integers\\nPlease Press 4 for the division of two integers.\\nPlease Enter 5 for the remainder of 2 integers.\\nPplease Press 6 to Exit the program\")\n",
    "choice =int(input(\"Please Enter the  choice of operations from the options Above: \" ))\n",
    "if(choice==6):\n",
    "    print(\"Exit\")\n",
    "else:\n",
    "    a = int(input(\"Enter the first number: \"))\n",
    "    b = int(input(\"Enter the second number: \"))\n",
    "\n",
    "    if(choice==1):\n",
    "        ans=a+b\n",
    "    elif(choice==2):\n",
    "        ans=a-b\n",
    "    elif(choice==3):\n",
    "        ans=a*b\n",
    "    elif(choice==4):\n",
    "        ans=a//b\n",
    "    elif(choice==5):\n",
    "        ans=a%b\n",
    "    else:\n",
    "        print(\"invalid choice\")\n",
    "    print(ans)\n",
    "    \n",
    "\n",
    "    \n",
    "    "
   ]
  }
 ],
 "metadata": {
  "kernelspec": {
   "display_name": "Python 3 (ipykernel)",
   "language": "python",
   "name": "python3"
  },
  "language_info": {
   "codemirror_mode": {
    "name": "ipython",
    "version": 3
   },
   "file_extension": ".py",
   "mimetype": "text/x-python",
   "name": "python",
   "nbconvert_exporter": "python",
   "pygments_lexer": "ipython3",
   "version": "3.10.6"
  }
 },
 "nbformat": 4,
 "nbformat_minor": 5
}

{
 "cells": [
  {
   "cell_type": "code",
   "execution_count": 3,
   "id": "d109ce3a",
   "metadata": {},
   "outputs": [
    {
     "data": {
      "text/plain": [
       "bool"
      ]
     },
     "execution_count": 3,
     "metadata": {},
     "output_type": "execute_result"
    }
   ],
   "source": [
    "a= True;\n",
    "b = False;\n",
    "# must be starting with a capital alphabet.\n",
    "type(a)"
   ]
  },
  {
   "cell_type": "markdown",
   "id": "f6c2e426",
   "metadata": {},
   "source": [
    "# Relational Operators"
   ]
  },
  {
   "cell_type": "code",
   "execution_count": 6,
   "id": "419343be",
   "metadata": {},
   "outputs": [
    {
     "name": "stdout",
     "output_type": "stream",
     "text": [
      "True\n",
      "False\n",
      "True\n",
      "False\n",
      "False\n",
      "True\n"
     ]
    }
   ],
   "source": [
    "a=10\n",
    "b=20\n",
    "print(a<b)\n",
    "print(a>b)\n",
    "print(a<=b)\n",
    "print(a>=b)\n",
    "print(a==b)\n",
    "print(a!=b)"
   ]
  },
  {
   "cell_type": "markdown",
   "id": "b3d3c767",
   "metadata": {},
   "source": [
    "### Logical Operators"
   ]
  },
  {
   "cell_type": "code",
   "execution_count": 10,
   "id": "fdd8ad56",
   "metadata": {},
   "outputs": [
    {
     "name": "stdout",
     "output_type": "stream",
     "text": [
      "False\n",
      "False\n",
      "True\n"
     ]
    }
   ],
   "source": [
    "c1=a>10\n",
    "c2=a<10\n",
    "result_1=c1 and c2\n",
    "result_2=c1 or c2\n",
    "result_3=not(c1)\n",
    "print(result_1)\n",
    "print(result_2)\n",
    "print(result_3)"
   ]
  },
  {
   "cell_type": "markdown",
   "id": "e066a4d4",
   "metadata": {},
   "source": [
    "### IF ELSE"
   ]
  },
  {
   "cell_type": "code",
   "execution_count": 11,
   "id": "603580a0",
   "metadata": {},
   "outputs": [
    {
     "name": "stdout",
     "output_type": "stream",
     "text": [
      "I'm inside if.\n"
     ]
    }
   ],
   "source": [
    "a = True\n",
    "if a:\n",
    "    print(\"I'm inside if.\")\n",
    "else:\n",
    "    print(\"I'm inside else\")\n",
    "#     indentation is must in python, because of lack of paranthisis to seprate the block of codes"
   ]
  },
  {
   "cell_type": "code",
   "execution_count": 13,
   "id": "0e128d03",
   "metadata": {},
   "outputs": [
    {
     "name": "stdout",
     "output_type": "stream",
     "text": [
      "Please Enter the number: 25\n",
      "The number is odd\n"
     ]
    }
   ],
   "source": [
    "#  check if a number is odd or even.\n",
    "num= int(input(\"Please Enter the number: \"))\n",
    "if(num%2==0):\n",
    "    print(\"The number is Even\")\n",
    "else:\n",
    "    print(\"The number is odd\")"
   ]
  },
  {
   "cell_type": "markdown",
   "id": "981ed9ac",
   "metadata": {},
   "source": [
    "### Using Operators in if else"
   ]
  },
  {
   "cell_type": "code",
   "execution_count": 18,
   "id": "5eb653ad",
   "metadata": {},
   "outputs": [
    {
     "name": "stdout",
     "output_type": "stream",
     "text": [
      "Enter the Value of A: 12\n",
      "Enter the value of B: 10\n",
      "False\n"
     ]
    }
   ],
   "source": [
    "a = int(input(\"Enter the Value of A: \"))\n",
    "b = int(input(\"Enter the value of B: \"))\n",
    "if(a>10 and b>10):\n",
    "    print(True)\n",
    "else:\n",
    "    print(False)"
   ]
  },
  {
   "cell_type": "code",
   "execution_count": null,
   "id": "6a783d75",
   "metadata": {},
   "outputs": [],
   "source": []
  },
  {
   "cell_type": "markdown",
   "id": "9d69301c",
   "metadata": {},
   "source": [
    "### ELIF"
   ]
  },
  {
   "cell_type": "code",
   "execution_count": 19,
   "id": "4afea245",
   "metadata": {},
   "outputs": [],
   "source": [
    "# Print out the largest of 3 numbers:"
   ]
  },
  {
   "cell_type": "code",
   "execution_count": 22,
   "id": "ef06596f",
   "metadata": {},
   "outputs": [
    {
     "name": "stdout",
     "output_type": "stream",
     "text": [
      "Enter the first number: 1\n",
      "Enter the second number: 2\n",
      "Enter the third number: 4\n",
      "The third number is the largest having a value = 4\n"
     ]
    }
   ],
   "source": [
    "a=int(input(\"Enter the first number: \"))\n",
    "b=int(input(\"Enter the second number: \"))\n",
    "c=int(input(\"Enter the third number: \"))\n",
    "if(a>=b and a>=c):\n",
    "    print(\"The first number is greater having a value = %d\"%a )\n",
    "elif(b>=c and b>=a):\n",
    "    print(\"The second number is greater having a value = %d\"%b)\n",
    "else:\n",
    "    print(\"The third number is the largest having a value = %d\"%c)"
   ]
  },
  {
   "cell_type": "markdown",
   "id": "a9165a6f",
   "metadata": {},
   "source": [
    "### Nested ELIF"
   ]
  },
  {
   "cell_type": "code",
   "execution_count": null,
   "id": "100696b1",
   "metadata": {},
   "outputs": [],
   "source": [
    "n=int(input())\n",
    "m=int(input())\n",
    "if (n%2==0):\n",
    "    if(m%2==0):\n",
    "        print(1)\n",
    "    else:\n",
    "        print(2)\n",
    "else:\n",
    "    print(3)"
   ]
  }
 ],
 "metadata": {
  "kernelspec": {
   "display_name": "Python 3 (ipykernel)",
   "language": "python",
   "name": "python3"
  },
  "language_info": {
   "codemirror_mode": {
    "name": "ipython",
    "version": 3
   },
   "file_extension": ".py",
   "mimetype": "text/x-python",
   "name": "python",
   "nbconvert_exporter": "python",
   "pygments_lexer": "ipython3",
   "version": "3.10.6"
  }
 },
 "nbformat": 4,
 "nbformat_minor": 5
}

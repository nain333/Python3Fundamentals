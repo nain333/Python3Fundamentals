{
 "cells": [
  {
   "cell_type": "markdown",
   "id": "3fe2adb2",
   "metadata": {},
   "source": [
    "### Simple n*n pattern"
   ]
  },
  {
   "cell_type": "code",
   "execution_count": 9,
   "id": "61a14fe9",
   "metadata": {},
   "outputs": [
    {
     "name": "stdout",
     "output_type": "stream",
     "text": [
      "Enter the size of the pattern:4\n",
      "* * * * \n",
      "* * * * \n",
      "* * * * \n",
      "* * * * \n"
     ]
    }
   ],
   "source": [
    "n=int(input(\"Enter the size of the pattern:\"))\n",
    "i=1\n",
    "while(i<=n):\n",
    "    j=1\n",
    "    while(j<=n):\n",
    "        print(\"*\", end=\" \" )\n",
    "        j+=1\n",
    "    print()\n",
    "    i+=1"
   ]
  },
  {
   "cell_type": "markdown",
   "id": "595d7d3d",
   "metadata": {},
   "source": [
    "### Square Patterns"
   ]
  },
  {
   "cell_type": "code",
   "execution_count": 12,
   "id": "ef6d80fb",
   "metadata": {},
   "outputs": [
    {
     "name": "stdout",
     "output_type": "stream",
     "text": [
      "Enter the size of the Pattern:4\n",
      "1 1 1 \n",
      "2 2 2 \n",
      "3 3 3 \n",
      "4 4 4 \n"
     ]
    }
   ],
   "source": [
    "n=int(input(\"Enter the size of the Pattern:\"))\n",
    "i=1\n",
    "while(i<=n):\n",
    "    j=1\n",
    "    while(j<n):\n",
    "        print(i,end=\" \")\n",
    "        j+=1\n",
    "    i+=1\n",
    "    print()"
   ]
  },
  {
   "cell_type": "code",
   "execution_count": 14,
   "id": "0913be5d",
   "metadata": {},
   "outputs": [
    {
     "name": "stdout",
     "output_type": "stream",
     "text": [
      "Enter the size of the Pattern: 4\n",
      "1 2 3 4 \n",
      "1 2 3 4 \n",
      "1 2 3 4 \n",
      "1 2 3 4 \n"
     ]
    }
   ],
   "source": [
    "n=int(input(\"Enter the size of the Pattern: \"))\n",
    "i=1\n",
    "while(i<=n):\n",
    "    j=1\n",
    "    while(j<=n):\n",
    "        print(j,end=\" \")\n",
    "        j+=1\n",
    "    print()\n",
    "    i+=1\n",
    "        "
   ]
  },
  {
   "cell_type": "code",
   "execution_count": 17,
   "id": "1b4407d6",
   "metadata": {},
   "outputs": [
    {
     "name": "stdout",
     "output_type": "stream",
     "text": [
      "Enter the size of the patter:4\n",
      "4 3 2 1 \n",
      "4 3 2 1 \n",
      "4 3 2 1 \n",
      "4 3 2 1 \n"
     ]
    }
   ],
   "source": [
    "n=int(input(\"Enter the size of the patter:\"))\n",
    "i=1\n",
    "while(i<=n):\n",
    "    j=1\n",
    "    p=n\n",
    "    while(j<=n):\n",
    "        print(p,end=\" \")\n",
    "        p-=1\n",
    "        j+=1\n",
    "    print()\n",
    "    i+=1"
   ]
  },
  {
   "cell_type": "markdown",
   "id": "90ed0358",
   "metadata": {},
   "source": [
    "### Trianglar Pattern"
   ]
  },
  {
   "cell_type": "code",
   "execution_count": 19,
   "id": "b3727197",
   "metadata": {},
   "outputs": [
    {
     "name": "stdout",
     "output_type": "stream",
     "text": [
      "Enter the size of Pattern: 4\n",
      "1 \n",
      "1 2 \n",
      "1 2 3 \n",
      "1 2 3 4 \n"
     ]
    }
   ],
   "source": [
    "n=int(input(\"Enter the size of Pattern: \"))\n",
    "i=1\n",
    "while(i<=n):\n",
    "    j=1\n",
    "    while(j<=i):\n",
    "        print(j, end=\" \")\n",
    "        j+=1\n",
    "    print()\n",
    "    i+=1"
   ]
  },
  {
   "cell_type": "code",
   "execution_count": 20,
   "id": "319b662b",
   "metadata": {},
   "outputs": [
    {
     "name": "stdout",
     "output_type": "stream",
     "text": [
      "Enter the size of Pattern: 4\n",
      "1 \n",
      "2 3 \n",
      "4 5 6 \n",
      "7 8 9 10 \n"
     ]
    }
   ],
   "source": [
    "n=int(input(\"Enter the size of Pattern: \"))\n",
    "i=1\n",
    "p=1\n",
    "while(i<=n):\n",
    "    j=1\n",
    "    while(j<=i):\n",
    "        print(p,end=\" \")\n",
    "        j+=1\n",
    "        p+=1\n",
    "    print()\n",
    "    i+=1\n",
    "        \n",
    "        "
   ]
  },
  {
   "cell_type": "code",
   "execution_count": 24,
   "id": "50cbfb9a",
   "metadata": {},
   "outputs": [
    {
     "name": "stdout",
     "output_type": "stream",
     "text": [
      "Enter the size: 4\n",
      "1 \n",
      "2 3 \n",
      "3 4 5 \n",
      "4 5 6 7 \n"
     ]
    }
   ],
   "source": [
    "n=int(input(\"Enter the size: \"))\n",
    "i=1\n",
    "while(i<=n):\n",
    "    j=1\n",
    "    p=i\n",
    "    while(j<=i):\n",
    "        print(p,end=\" \")\n",
    "        j+=1\n",
    "        p+=1\n",
    "    print()\n",
    "    i+=1\n",
    "    \n",
    "        \n",
    "        \n",
    "     \n",
    "    "
   ]
  },
  {
   "cell_type": "markdown",
   "id": "905d1fa8",
   "metadata": {},
   "source": [
    "### Character Patterns:"
   ]
  },
  {
   "cell_type": "code",
   "execution_count": 33,
   "id": "2b8c1df2",
   "metadata": {},
   "outputs": [
    {
     "name": "stdout",
     "output_type": "stream",
     "text": [
      "Enter the size of the pattern: 4\n",
      "A B C D \n",
      "A B C D \n",
      "A B C D \n",
      "A B C D \n"
     ]
    }
   ],
   "source": [
    "n=int(input(\"Enter the size of the pattern: \"))\n",
    "i=1\n",
    "while(i<=n):\n",
    "    j=1\n",
    "    while(j<=n):\n",
    "        print(chr((ord('A')+j)-1), end=\" \")\n",
    "        j+=1\n",
    "    print()\n",
    "    i+=1\n",
    "        \n",
    "        "
   ]
  },
  {
   "cell_type": "code",
   "execution_count": 36,
   "id": "c213d847",
   "metadata": {},
   "outputs": [
    {
     "name": "stdout",
     "output_type": "stream",
     "text": [
      "Please Enter the size of the Pattern4\n",
      "A B C D \n",
      "B C D E \n",
      "C D E F \n",
      "D E F G \n"
     ]
    }
   ],
   "source": [
    "n=int(input(\"Please Enter the size of the Pattern: \"))\n",
    "i=1\n",
    "while(i<=n):\n",
    "    p=i\n",
    "    j=1\n",
    "    while(j<=n):\n",
    "        print(chr(ord('A')+p-1),end=\" \")\n",
    "        j+=1\n",
    "        p+=1\n",
    "    print()\n",
    "    i+=1\n",
    "    "
   ]
  },
  {
   "cell_type": "code",
   "execution_count": 44,
   "id": "a24f266d",
   "metadata": {},
   "outputs": [
    {
     "name": "stdout",
     "output_type": "stream",
     "text": [
      "Enter the size of the Pattern: 5\n",
      "A B C D E \n",
      "F G H I J \n",
      "K L M N O \n",
      "P Q R S T \n",
      "U V W X Y \n"
     ]
    }
   ],
   "source": [
    "n=int(input(\"Enter the size of the Pattern: \"))\n",
    "i=1\n",
    "p=1\n",
    "while(i<=n):\n",
    "    j=1\n",
    "    \n",
    "    while(j<=n):\n",
    "        print(chr(ord('A')+p-1), end =\" \")\n",
    "        j+=1\n",
    "        p+=1\n",
    "    print()\n",
    "    i+=1"
   ]
  },
  {
   "cell_type": "code",
   "execution_count": 45,
   "id": "a58373ba",
   "metadata": {},
   "outputs": [
    {
     "name": "stdout",
     "output_type": "stream",
     "text": [
      "Enter the size of the pattern: 4\n",
      "A \n",
      "B C \n",
      "C D E \n",
      "D E F G \n"
     ]
    }
   ],
   "source": [
    "n=int(input(\"Enter the size of the pattern: \"))\n",
    "i=1\n",
    "while(i<=n):\n",
    "    p=i\n",
    "    j=1\n",
    "    while(j<=i):\n",
    "        print(chr(ord('A')+p-1), end=\" \")\n",
    "        j+=1\n",
    "        p+=1\n",
    "    print()\n",
    "    i+=1\n",
    "        \n",
    "    "
   ]
  },
  {
   "cell_type": "code",
   "execution_count": 54,
   "id": "f59677cf",
   "metadata": {},
   "outputs": [
    {
     "name": "stdout",
     "output_type": "stream",
     "text": [
      "Please Enter the size of the pattern: 26\n",
      "Z \n",
      "Y Z \n",
      "X Y Z \n",
      "W X Y Z \n",
      "V W X Y Z \n",
      "U V W X Y Z \n",
      "T U V W X Y Z \n",
      "S T U V W X Y Z \n",
      "R S T U V W X Y Z \n",
      "Q R S T U V W X Y Z \n",
      "P Q R S T U V W X Y Z \n",
      "O P Q R S T U V W X Y Z \n",
      "N O P Q R S T U V W X Y Z \n",
      "M N O P Q R S T U V W X Y Z \n",
      "L M N O P Q R S T U V W X Y Z \n",
      "K L M N O P Q R S T U V W X Y Z \n",
      "J K L M N O P Q R S T U V W X Y Z \n",
      "I J K L M N O P Q R S T U V W X Y Z \n",
      "H I J K L M N O P Q R S T U V W X Y Z \n",
      "G H I J K L M N O P Q R S T U V W X Y Z \n",
      "F G H I J K L M N O P Q R S T U V W X Y Z \n",
      "E F G H I J K L M N O P Q R S T U V W X Y Z \n",
      "D E F G H I J K L M N O P Q R S T U V W X Y Z \n",
      "C D E F G H I J K L M N O P Q R S T U V W X Y Z \n",
      "B C D E F G H I J K L M N O P Q R S T U V W X Y Z \n",
      "A B C D E F G H I J K L M N O P Q R S T U V W X Y Z \n"
     ]
    }
   ],
   "source": [
    "n=int(input(\"Please Enter the size of the pattern: \"))\n",
    "i=1\n",
    "while(i<=n):\n",
    "    j=1\n",
    "    p=n-i+1\n",
    "    while(j<=i):\n",
    "        print(chr(ord('A')+p-1),end=\" \")\n",
    "        j+=1\n",
    "        p+=1\n",
    "    print()\n",
    "    i+=1\n",
    "        "
   ]
  },
  {
   "cell_type": "code",
   "execution_count": 59,
   "id": "e855083e",
   "metadata": {},
   "outputs": [
    {
     "name": "stdout",
     "output_type": "stream",
     "text": [
      "Please Enter the size: 4\n",
      "1 \n",
      "1 1 \n",
      "2 0 2 \n",
      "3 0 0 3 \n"
     ]
    }
   ],
   "source": [
    "n=int(input(\"Please Enter the size: \"))\n",
    "i=1\n",
    "while(i<=n):\n",
    "    j=1\n",
    "    \n",
    "    while(j<=i):\n",
    "        if(i==1):\n",
    "            print(i,end=\" \")\n",
    "        else:\n",
    "            if(j==1 or j==i):\n",
    "                print(i-1,end=\" \")\n",
    "            else:\n",
    "                print(0,end=\" \")\n",
    "        j+=1\n",
    "    print()\n",
    "    i+=1\n"
   ]
  },
  {
   "cell_type": "code",
   "execution_count": 64,
   "id": "a7542758",
   "metadata": {},
   "outputs": [
    {
     "name": "stdout",
     "output_type": "stream",
     "text": [
      "Enter the size of the Pattern: 5\n",
      "1 \n",
      "1 1 \n",
      "1 2 1 \n",
      "1 2 2 1 \n",
      "1 2 2 2 1 \n"
     ]
    }
   ],
   "source": [
    "n=int(input(\"Enter the size of the Pattern: \"))\n",
    "i=1\n",
    "while(i<=n):\n",
    "    j=1\n",
    "    while(j<=i):\n",
    "        if(i==1):\n",
    "            print(i,end=\" \")\n",
    "        else:\n",
    "            if(j==1 or j==i):\n",
    "                print(1,end=\" \")\n",
    "            else:\n",
    "                print(2,end=\" \")\n",
    "        j+=1\n",
    "    print()\n",
    "    i+=1"
   ]
  },
  {
   "cell_type": "code",
   "execution_count": 68,
   "id": "90c99ad6",
   "metadata": {},
   "outputs": [
    {
     "name": "stdout",
     "output_type": "stream",
     "text": [
      "Enter the size of the Pattern: 5\n",
      "1 2 3 4 5 \n",
      "2 3 4 5 \n",
      "3 4 5 \n",
      "4 5 \n",
      "5 \n"
     ]
    }
   ],
   "source": [
    "n=int(input(\"Enter the size of the Pattern: \"))\n",
    "i=1\n",
    "while(i<=n):\n",
    "    p=i\n",
    "    j=1\n",
    "    while(j<=n-i+1):\n",
    "        print(p,end=\" \")\n",
    "        j+=1\n",
    "        p+=1\n",
    "    print()\n",
    "    i+=1\n",
    "    "
   ]
  },
  {
   "cell_type": "markdown",
   "id": "a5d5d5a7",
   "metadata": {},
   "source": [
    "### Alpha Pattern:"
   ]
  },
  {
   "cell_type": "code",
   "execution_count": 71,
   "id": "cdf8161a",
   "metadata": {},
   "outputs": [
    {
     "name": "stdout",
     "output_type": "stream",
     "text": [
      "Enter the size of the Pattern: 26\n",
      "A \n",
      "B B \n",
      "C C C \n",
      "D D D D \n",
      "E E E E E \n",
      "F F F F F F \n",
      "G G G G G G G \n",
      "H H H H H H H H \n",
      "I I I I I I I I I \n",
      "J J J J J J J J J J \n",
      "K K K K K K K K K K K \n",
      "L L L L L L L L L L L L \n",
      "M M M M M M M M M M M M M \n",
      "N N N N N N N N N N N N N N \n",
      "O O O O O O O O O O O O O O O \n",
      "P P P P P P P P P P P P P P P P \n",
      "Q Q Q Q Q Q Q Q Q Q Q Q Q Q Q Q Q \n",
      "R R R R R R R R R R R R R R R R R R \n",
      "S S S S S S S S S S S S S S S S S S S \n",
      "T T T T T T T T T T T T T T T T T T T T \n",
      "U U U U U U U U U U U U U U U U U U U U U \n",
      "V V V V V V V V V V V V V V V V V V V V V V \n",
      "W W W W W W W W W W W W W W W W W W W W W W W \n",
      "X X X X X X X X X X X X X X X X X X X X X X X X \n",
      "Y Y Y Y Y Y Y Y Y Y Y Y Y Y Y Y Y Y Y Y Y Y Y Y Y \n",
      "Z Z Z Z Z Z Z Z Z Z Z Z Z Z Z Z Z Z Z Z Z Z Z Z Z Z \n"
     ]
    }
   ],
   "source": [
    "n=int(input(\"Enter the size of the Pattern: \"))\n",
    "i =1\n",
    "while(i<=n):\n",
    "    j=1\n",
    "    while(j<=i):\n",
    "        print(chr(ord('A')+i-1), end =\" \")\n",
    "        j+=1\n",
    "    print()\n",
    "    i+=1\n",
    "    \n",
    "    \n"
   ]
  }
 ],
 "metadata": {
  "kernelspec": {
   "display_name": "Python 3 (ipykernel)",
   "language": "python",
   "name": "python3"
  },
  "language_info": {
   "codemirror_mode": {
    "name": "ipython",
    "version": 3
   },
   "file_extension": ".py",
   "mimetype": "text/x-python",
   "name": "python",
   "nbconvert_exporter": "python",
   "pygments_lexer": "ipython3",
   "version": "3.10.6"
  }
 },
 "nbformat": 4,
 "nbformat_minor": 5
}
